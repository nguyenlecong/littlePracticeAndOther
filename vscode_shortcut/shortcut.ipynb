{
 "cells": [
  {
   "cell_type": "markdown",
   "metadata": {},
   "source": [
    "# Dùng bàn phím nhiều, ít chuột"
   ]
  },
  {
   "cell_type": "markdown",
   "metadata": {},
   "source": [
    "# Tìm nhanh, đọc nhanh"
   ]
  },
  {
   "cell_type": "markdown",
   "metadata": {},
   "source": [
    "1. Tìm file: Ctrl + P ( + Enter: mở file trong tab mới)"
   ]
  },
  {
   "cell_type": "markdown",
   "metadata": {},
   "source": [
    "2. Xem hàm, biến trong file: Ctrl + Shift + O <br>\n",
    "Xem hàm, biến trong toàn bộ project: Ctrl + Shift + F (cả text) <br>\n",
    "Tìm hàm/biến trong toàn bộ code: Ctrl + T"
   ]
  },
  {
   "cell_type": "markdown",
   "metadata": {},
   "source": [
    "3. Đóng tab: Ctrl + W <br>\n",
    "Di chuyển giữa các tab: Ctrl + Tab "
   ]
  },
  {
   "cell_type": "markdown",
   "metadata": {},
   "source": [
    "# Chỉnh sửa nhanh"
   ]
  },
  {
   "cell_type": "markdown",
   "metadata": {},
   "source": [
    "1. Xóa 1 dòng: Ctrl + Shift + K"
   ]
  },
  {
   "cell_type": "markdown",
   "metadata": {},
   "source": [
    "2. Copy 1 dòng: Ctrl + C (ko bôi đen) (/Ctrl + X)"
   ]
  },
  {
   "cell_type": "markdown",
   "metadata": {},
   "source": [
    "3. Di chuyển dòng (vùng bôi đen) lên xuống: Alt + ^"
   ]
  },
  {
   "cell_type": "markdown",
   "metadata": {},
   "source": [
    "4. Copy dòng trên xuống: Ctrl + Shift + ^"
   ]
  },
  {
   "cell_type": "markdown",
   "metadata": {},
   "source": [
    "5. Chọn nhiều con trỏ cùng lúc: Alt + Click"
   ]
  },
  {
   "cell_type": "markdown",
   "metadata": {},
   "source": [
    "6. Đổi tên hàm, biến: F2"
   ]
  },
  {
   "cell_type": "markdown",
   "metadata": {},
   "source": [
    "7. Mở/ẩn terminal: Ctrl + '  <br>\n",
    "New terminal: Ctrl + Shift + ' <br>\n",
    "Split terminal: Ctrl + Shift + 5"
   ]
  },
  {
   "cell_type": "markdown",
   "metadata": {},
   "source": [
    "8. Sửa những đoạn code giống nhau: Ctrl + D <br>\n",
    "Hoàn toác: Ctrl + U"
   ]
  },
  {
   "cell_type": "markdown",
   "metadata": {},
   "source": [
    "9. Chọn cả dòng: Shift + End/Home"
   ]
  },
  {
   "cell_type": "markdown",
   "metadata": {},
   "source": [
    "10. Chọn tất cả đoạn văn bản giống hiện tại (không phân biệt hoa thường): Ctrl + Shift + L <br>\n",
    "Chọn tất cả đoạn văn bản giống hiện tại (phân biệt hoa thường): Ctrl + F2"
   ]
  },
  {
   "cell_type": "markdown",
   "metadata": {},
   "source": [
    "11. Đẩy dòng sang phải/trái: Ctrl + ]/["
   ]
  },
  {
   "cell_type": "markdown",
   "metadata": {},
   "source": [
    "12. Đi đến đầu/cuối file: Ctrl + Home/End"
   ]
  },
  {
   "cell_type": "markdown",
   "metadata": {},
   "source": [
    "13. Thay thế nội dung: Ctrl + H"
   ]
  },
  {
   "cell_type": "markdown",
   "metadata": {},
   "source": [
    "# Khác"
   ]
  },
  {
   "cell_type": "markdown",
   "metadata": {},
   "source": [
    "1. Ngắt dòng: Alt + Z"
   ]
  },
  {
   "cell_type": "markdown",
   "metadata": {},
   "source": [
    "2. Cuộn lên/xuống: Ctrl + ^"
   ]
  }
 ],
 "metadata": {
  "language_info": {
   "name": "python"
  }
 },
 "nbformat": 4,
 "nbformat_minor": 2
}
