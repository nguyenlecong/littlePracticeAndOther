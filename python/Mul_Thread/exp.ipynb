{
 "cells": [
  {
   "cell_type": "code",
   "execution_count": 1,
   "metadata": {},
   "outputs": [
    {
     "name": "stdout",
     "output_type": "stream",
     "text": [
      "sleeping 1 second\n",
      "done sleeping\n",
      "sleeping 1 second\n",
      "done sleeping\n",
      "finish 2.0 second\n"
     ]
    }
   ],
   "source": [
    "import time\n",
    "\n",
    "def doing_something():\n",
    "    print('sleeping 1 second')\n",
    "    time.sleep(1)\n",
    "    print('done sleeping')\n",
    "\n",
    "start = time.time()\n",
    "\n",
    "# thuc hien tuan tu\n",
    "doing_something()\n",
    "doing_something()\n",
    "\n",
    "end = time.time()\n",
    "print(f'finish {round(end-start, 2)} second')"
   ]
  },
  {
   "cell_type": "code",
   "execution_count": 2,
   "metadata": {},
   "outputs": [
    {
     "name": "stdout",
     "output_type": "stream",
     "text": [
      "sleeping 1 second\n",
      "sleeping 1 second\n",
      "done sleeping\n",
      "done sleeping\n",
      "finish 1.01 second\n"
     ]
    }
   ],
   "source": [
    "# Thread, MultiThread: IO operator (read, write file)\n",
    "\n",
    "import time\n",
    "import threading\n",
    "\n",
    "def doing_something():\n",
    "    print('sleeping 1 second')\n",
    "    time.sleep(1)\n",
    "    print('done sleeping')\n",
    "\n",
    "start = time.time()\n",
    "\n",
    "# su dung thread\n",
    "t1 = threading.Thread(target=doing_something)\n",
    "t2 = threading.Thread(target=doing_something)\n",
    "\n",
    "t1.start()\n",
    "t2.start()\n",
    "\n",
    "t1.join()\n",
    "t2.join()\n",
    "\n",
    "end = time.time()\n",
    "print(f'finish {round(end-start, 2)} second')"
   ]
  },
  {
   "cell_type": "code",
   "execution_count": 7,
   "metadata": {},
   "outputs": [
    {
     "name": "stdout",
     "output_type": "stream",
     "text": [
      "sleeping 1 second\n",
      "sleeping 1 second\n",
      "sleeping 1 second\n",
      "sleeping 1 second\n",
      "sleeping 1 second\n",
      "sleeping 1 second\n",
      "sleeping 1 second\n",
      "sleeping 1 second\n",
      "sleeping 1 second\n",
      "sleeping 1 second\n",
      "done sleeping\n",
      "done sleeping\n",
      "done sleeping\n",
      "done sleeping\n",
      "done sleeping\n",
      "done sleeping\n",
      "done sleeping\n",
      "done sleeping\n",
      "done sleeping\n",
      "done sleeping\n",
      "finish 1.01 second\n"
     ]
    }
   ],
   "source": [
    "start = time.time()\n",
    "\n",
    "threads = []\n",
    "for _ in range(10):\n",
    "    t = threading.Thread(target=doing_something)\n",
    "    t.start()\n",
    "    threads.append(t)\n",
    "\n",
    "for t in threads:\n",
    "    t.join()\n",
    "\n",
    "end = time.time()\n",
    "print(f'finish {round(end-start, 2)} second')"
   ]
  },
  {
   "cell_type": "code",
   "execution_count": 11,
   "metadata": {},
   "outputs": [
    {
     "name": "stdout",
     "output_type": "stream",
     "text": [
      "sleeping 1.5 second\n",
      "sleeping 1.5 second\n",
      "sleeping 1.5 second\n",
      "done sleeping\n",
      "done sleeping\n",
      "None\n",
      "None\n",
      "done sleeping\n",
      "None\n",
      "finish 1.51 second\n"
     ]
    }
   ],
   "source": [
    "import concurrent.futures\n",
    "\n",
    "def doing_something(t1, t2):\n",
    "    seconds = t1 + t2\n",
    "    print(f'sleeping {seconds} second')\n",
    "    time.sleep(seconds)\n",
    "    print('done sleeping')\n",
    "\n",
    "start = time.time()\n",
    "with concurrent.futures.ThreadPoolExecutor() as ex:\n",
    "    f1 = ex.submit(doing_something, 1, 0.5)\n",
    "    f2 = ex.submit(doing_something, 1, 0.5)\n",
    "    f3 = ex.submit(doing_something, 1, 0.5)\n",
    "\n",
    "    print(f1.result())\n",
    "    print(f2.result())\n",
    "    print(f3.result())\n",
    "\n",
    "end = time.time()\n",
    "print(f'finish {round(end-start, 2)} second')"
   ]
  },
  {
   "cell_type": "code",
   "execution_count": 13,
   "metadata": {},
   "outputs": [
    {
     "name": "stdout",
     "output_type": "stream",
     "text": [
      "sleeping 1 second\n",
      "sleeping 3 second\n",
      "sleeping 4 second\n",
      "sleeping 6 second\n",
      "sleeping 7 second\n",
      "sleeping 2 second\n",
      "sleeping 1 second\n",
      "done sleeping\n",
      "None\n",
      "done sleeping\n",
      "done sleeping\n",
      "done sleeping\n",
      "None\n",
      "done sleeping\n",
      "None\n",
      "done sleeping\n",
      "None\n",
      "done sleeping\n",
      "None\n",
      "None\n",
      "None\n",
      "finish 7.02 second\n"
     ]
    }
   ],
   "source": [
    "import concurrent.futures\n",
    "\n",
    "def doing_something(t):\n",
    "    print(f'sleeping {t} second')\n",
    "    time.sleep(t)\n",
    "    print('done sleeping')\n",
    "\n",
    "start = time.time()\n",
    "with concurrent.futures.ThreadPoolExecutor() as ex:\n",
    "    seconds = [1,3,4,6,7,2,1]\n",
    "    list_result = ex.map(doing_something, seconds)\n",
    "\n",
    "    for r in list_result:\n",
    "        print(r)\n",
    "\n",
    "end = time.time()\n",
    "print(f'finish {round(end-start, 2)} second')"
   ]
  }
 ],
 "metadata": {
  "kernelspec": {
   "display_name": "base",
   "language": "python",
   "name": "python3"
  },
  "language_info": {
   "codemirror_mode": {
    "name": "ipython",
    "version": 3
   },
   "file_extension": ".py",
   "mimetype": "text/x-python",
   "name": "python",
   "nbconvert_exporter": "python",
   "pygments_lexer": "ipython3",
   "version": "3.9.13"
  },
  "orig_nbformat": 4
 },
 "nbformat": 4,
 "nbformat_minor": 2
}
