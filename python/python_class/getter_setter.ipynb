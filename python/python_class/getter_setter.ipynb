{
 "cells": [
  {
   "cell_type": "code",
   "execution_count": 10,
   "metadata": {},
   "outputs": [
    {
     "data": {
      "text/plain": [
       "'D'"
      ]
     },
     "execution_count": 10,
     "metadata": {},
     "output_type": "execute_result"
    }
   ],
   "source": [
    "class B:\n",
    "    def __init__(self, ten):\n",
    "        self.ten = ten\n",
    "\n",
    "    @property\n",
    "    def get_name(self):\n",
    "        return self.ten\n",
    "    \n",
    "    @get_name.setter\n",
    "    def set_name(self, ten):\n",
    "        self.ten = ten.upper()\n",
    "\n",
    "\n",
    "C = B('c')\n",
    "\n",
    "C.get_name  # -> c\n",
    "\n",
    "C.set_name = 'd'\n",
    "C.get_name  # -> D\n",
    "\n",
    "# can not call C.get_name() and C.set_name('d'), because they become methods\n",
    "\n",
    "# if not @get_name.setter, then C.get_name still return 'c'"
   ]
  },
  {
   "cell_type": "code",
   "execution_count": 2,
   "metadata": {},
   "outputs": [
    {
     "data": {
      "text/plain": [
       "'D'"
      ]
     },
     "execution_count": 2,
     "metadata": {},
     "output_type": "execute_result"
    }
   ],
   "source": [
    "class A:\n",
    "    def __init__(self, ten):\n",
    "        self.ten = ten\n",
    "\n",
    "    def get_name(self):\n",
    "        return self.ten\n",
    "    \n",
    "    def set_name(self, ten_moi):\n",
    "        self.ten = ten_moi.upper()\n",
    "\n",
    "    name = property(get_name, set_name)\n",
    "\n",
    "C = A('c')\n",
    "\n",
    "C.get_name()  # c\n",
    "C.name  # c\n",
    "\n",
    "C.name = 'd'\n",
    "C.get_name()  # D\n",
    "C.name  # D"
   ]
  }
 ],
 "metadata": {
  "kernelspec": {
   "display_name": "Python 3",
   "language": "python",
   "name": "python3"
  },
  "language_info": {
   "codemirror_mode": {
    "name": "ipython",
    "version": 3
   },
   "file_extension": ".py",
   "mimetype": "text/x-python",
   "name": "python",
   "nbconvert_exporter": "python",
   "pygments_lexer": "ipython3",
   "version": "3.7.6"
  },
  "orig_nbformat": 4
 },
 "nbformat": 4,
 "nbformat_minor": 2
}
