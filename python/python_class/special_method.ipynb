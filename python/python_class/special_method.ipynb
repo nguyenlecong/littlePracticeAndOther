{
 "cells": [
  {
   "attachments": {},
   "cell_type": "markdown",
   "metadata": {},
   "source": [
    "Nếu regular method có argument đầu tiên tự động đưa vào là đối tượng đó và được nhận bởi parameter self thì ở class method, argument đầu tiên tự động đưa vào chính lớp gọi phương thức đó hoặc là lớp của đối tượng gọi phương thức đó.\n",
    "\n",
    "Theo quy ước thì parameter nhận argument này sẽ là cls.\n",
    "\n",
    "Để Python biết được phương thức nào là class method thì bạn thên @classmethod ngay trên dòng khai báo hàm"
   ]
  },
  {
   "cell_type": "code",
   "execution_count": 3,
   "metadata": {},
   "outputs": [
    {
     "name": "stdout",
     "output_type": "stream",
     "text": [
      "50\n",
      "50\n",
      "40\n",
      "40\n"
     ]
    }
   ],
   "source": [
    "class SieuNhan:\n",
    "    suc_manh = 50\n",
    "    def __init__(self, para_ten, para_vu_khi, para_mau_sac):\n",
    "        self.ten = para_ten\n",
    "        self.vu_khi = para_vu_khi\n",
    "        self.mau_sac = para_mau_sac\n",
    "\n",
    "sieu_nhan_A = SieuNhan(\"Sieu nhan do\", \"Kiem\", \"Do\")\n",
    "\n",
    "print(SieuNhan.suc_manh)\n",
    "print(SieuNhan.suc_manh)\n",
    "\n",
    "SieuNhan.suc_manh = 40\n",
    "\n",
    "print(SieuNhan.suc_manh)\n",
    "print(SieuNhan.suc_manh)"
   ]
  },
  {
   "cell_type": "code",
   "execution_count": 2,
   "metadata": {},
   "outputs": [
    {
     "name": "stdout",
     "output_type": "stream",
     "text": [
      "50\n",
      "50\n",
      "40\n",
      "40\n"
     ]
    }
   ],
   "source": [
    "class SieuNhan:\n",
    "    suc_manh = 50\n",
    "    def __init__(self, para_ten, para_vu_khi, para_mau_sac):\n",
    "        self.ten = para_ten\n",
    "        self.vu_khi = para_vu_khi\n",
    "        self.mau_sac = para_mau_sac\n",
    "    @classmethod\n",
    "    def cap_nhat_suc_manh(cls, smanh):\n",
    "        cls.suc_manh = smanh\n",
    "sieu_nhan_A = SieuNhan(\"Sieu nhan do\", \"Kiem\", \"Do\")\n",
    "\n",
    "print(SieuNhan.suc_manh)\n",
    "print(sieu_nhan_A.suc_manh)\n",
    "\n",
    "sieu_nhan_A.cap_nhat_suc_manh(40) # sử dụng đối tượng thay vì lớp\n",
    "\n",
    "print(SieuNhan.suc_manh)\n",
    "print(sieu_nhan_A.suc_manh)"
   ]
  },
  {
   "attachments": {},
   "cell_type": "markdown",
   "metadata": {},
   "source": [
    "Tuy nhiên, đây không phải là ứng dụng chính của class method. Class method thường được dùng để tạo đối tượng."
   ]
  },
  {
   "cell_type": "code",
   "execution_count": 4,
   "metadata": {},
   "outputs": [
    {
     "name": "stdout",
     "output_type": "stream",
     "text": [
      "{'ten': 'Sieu nhan do', 'vu_khi': 'Kiem', 'mau_sac': 'Do'}\n"
     ]
    }
   ],
   "source": [
    "class SieuNhan:\n",
    "    suc_manh = 50\n",
    "    def __init__(self, para_ten, para_vu_khi, para_mau_sac):\n",
    "        self.ten = para_ten\n",
    "        self.vu_khi = para_vu_khi\n",
    "        self.mau_sac = para_mau_sac\n",
    "    @classmethod\n",
    "    def from_string(cls, s): # thường những phương thức xử lí thế này hay có tên là from…\n",
    "        lst = s.split('-')\n",
    "        new_lst = [st.strip() for st in lst]\n",
    "        ten, vu_khi, mau_sac = new_lst\n",
    "        return cls(ten, vu_khi, mau_sac)\n",
    "\n",
    "infor_str = \"Sieu nhan do - Kiem - Do\"\n",
    "sieu_nhan_A = SieuNhan.from_string(infor_str)\n",
    "print(sieu_nhan_A.__dict__)"
   ]
  },
  {
   "attachments": {},
   "cell_type": "markdown",
   "metadata": {},
   "source": [
    "static method chẳng ngầm gửi cái gì vào cả, nó như một hàm bình thường.\n",
    "\n",
    "Câu hỏi ở đây là, ta chẳng cần tạo static method mà tạo luôn hàm ở ngoài lớp được không? Chẳng vấn đề gì. Tuy nhiên static method vẫn tồn tại vì đôi lúc ta cần sự khoa học, logic, một số phương thức chẳng có sử dụng tí gì tới những thông tin của đối tượng thuộc lớp đó tuy nhiên nó vẫn có gì đó liên quan nên vẫn được đặt ở trong lớp đó."
   ]
  },
  {
   "cell_type": "code",
   "execution_count": 5,
   "metadata": {},
   "outputs": [
    {
     "name": "stdout",
     "output_type": "stream",
     "text": [
      "1, 2, 3. Sieu nhan bien hinh\n"
     ]
    }
   ],
   "source": [
    "class SieuNhan:\n",
    "    suc_manh = 50\n",
    "    def __init__(self, para_ten, para_vu_khi, para_mau_sac):\n",
    "        self.ten = para_ten\n",
    "        self.vu_khi = para_vu_khi\n",
    "        self.mau_sac = para_mau_sac\n",
    "    @staticmethod\n",
    "    def bien_hinh():\n",
    "        print(\"1, 2, 3. Sieu nhan bien hinh\")\n",
    "\n",
    "sieu_nhan_A = SieuNhan(\"Sieu nhan do\", \"Kiem\", \"Do\")\n",
    "sieu_nhan_A.bien_hinh()"
   ]
  },
  {
   "attachments": {},
   "cell_type": "markdown",
   "metadata": {},
   "source": [
    "Nếu bạn dựng một phương thức cần sử dụng đối tượng đó thì dùng regular method\n",
    "\n",
    "Nếu bạn cần dùng class thì dùng class method\n",
    "\n",
    "Trường hợp còn lại (tức là không dùng gì) thì dùng static method"
   ]
  },
  {
   "attachments": {},
   "cell_type": "markdown",
   "metadata": {},
   "source": [
    "Phương thức đặc biệt, tiếng Anh là Special method, đôi lúc người ta còn gọi là Magic method hoặc Dunder method. Những phương thức này đã được quy ước sẵn tên. Định dạng chung của các phức thức này là __tên phương thức __"
   ]
  },
  {
   "attachments": {},
   "cell_type": "markdown",
   "metadata": {},
   "source": [
    "Nếu bạn muốn khi in ra mà ta có một miêu tả rõ ràng về thứ này là gì, thì ta sẽ nên sử dụng hàm \\__str__\n",
    "\n",
    "Thì khi in ra, hàm \\__str__ này được gọi đến và trả về kết quả như bạn muốn"
   ]
  },
  {
   "attachments": {},
   "cell_type": "markdown",
   "metadata": {},
   "source": [
    "Phương thức \\__str__ này còn có một anh em họ nữa là phương thức \\__repr__\n",
    "\n",
    "Nếu như lớp của bạn cùng có cả 2 phương thức \\__str__ và \\__repr__ thì hàm print ưu tiên dùng \\__str__ hơn. Còn trên interactive prompt khi không dùng hàm print thì sẽ ưu tiên \\__repr__ hơn. Tuy nhiên ta vẫn có cách để gọi \\__repr__ nếu cần (ngoài cách gọi trực tiếp đối tượng.\\__repr__()). Vì mục đích của \\__repr__ cho thông tin chi tiết cụ thể về đối tượng, còn \\__str__ chỉ đơn giản là giá trị. Ta nghĩ đơn giản như ta là một đối tượng, mỗi khi ta gọi hàm \\__str__ thì nó sẽ trả về hình ảnh bề da thịt của cơ thể chúng ta, còn nếu gọi \\__repr__ thì trả về hình ảnh xương cốt, gân, cơ bắp của cơ thể chúng ta."
   ]
  },
  {
   "attachments": {},
   "cell_type": "markdown",
   "metadata": {},
   "source": [
    "hàm \\__len__ cũng là một special method"
   ]
  },
  {
   "attachments": {},
   "cell_type": "markdown",
   "metadata": {},
   "source": [
    "Bản chất các toán tử cũng là những special method.\n",
    "\n",
    "Ta gọi phương thức bằng toán tử cũng như gọi trực tiếp phương thức:\n",
    "\n",
    "SN_A + SN_B\n",
    "\n",
    "SieuNhan.\\__add__(SN_A, SN_B)"
   ]
  }
 ],
 "metadata": {
  "kernelspec": {
   "display_name": "Python 3",
   "language": "python",
   "name": "python3"
  },
  "language_info": {
   "codemirror_mode": {
    "name": "ipython",
    "version": 3
   },
   "file_extension": ".py",
   "mimetype": "text/x-python",
   "name": "python",
   "nbconvert_exporter": "python",
   "pygments_lexer": "ipython3",
   "version": "3.7.6"
  },
  "orig_nbformat": 4
 },
 "nbformat": 4,
 "nbformat_minor": 2
}
