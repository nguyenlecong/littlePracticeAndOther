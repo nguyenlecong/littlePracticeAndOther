{
 "cells": [
  {
   "cell_type": "markdown",
   "metadata": {},
   "source": [
    "**Basic Tips and Tricks**"
   ]
  },
  {
   "cell_type": "markdown",
   "metadata": {},
   "source": [
    "**Swap 2 variables**\n",
    "\n",
    "In other languages, when we want to swap 2 variables, we tend to use temp to store the value. However, in Python, there is a cleaner way to do this:"
   ]
  },
  {
   "cell_type": "code",
   "execution_count": 1,
   "metadata": {},
   "outputs": [
    {
     "name": "stdout",
     "output_type": "stream",
     "text": [
      "30 10 20\n"
     ]
    }
   ],
   "source": [
    "a = 10\n",
    "b = 20\n",
    "c = 30\n",
    "a, b, c = c, a, b    # <--- all three assignments are done at the same time\n",
    "print(a, b, c)"
   ]
  },
  {
   "cell_type": "markdown",
   "metadata": {},
   "source": [
    "**Python Unpacking**\n",
    "\n",
    "Unpack values from a tuple or a list:"
   ]
  },
  {
   "cell_type": "code",
   "execution_count": 2,
   "metadata": {},
   "outputs": [
    {
     "name": "stdout",
     "output_type": "stream",
     "text": [
      "10 20 30\n"
     ]
    }
   ],
   "source": [
    "first, second, last = [10, 20, 30]\n",
    "print(first, second, last)"
   ]
  },
  {
   "cell_type": "markdown",
   "metadata": {},
   "source": [
    "Nested Unpacking:"
   ]
  },
  {
   "cell_type": "code",
   "execution_count": 3,
   "metadata": {},
   "outputs": [
    {
     "name": "stdout",
     "output_type": "stream",
     "text": [
      "1 2 A B\n"
     ]
    }
   ],
   "source": [
    "matrix = [[1, 2], [\"A\", \"B\"]]\n",
    "(one, two), (three, four) = matrix\n",
    "print(one, two, three, four)"
   ]
  },
  {
   "cell_type": "markdown",
   "metadata": {},
   "source": [
    "Unpacking inside a loop:"
   ]
  },
  {
   "cell_type": "code",
   "execution_count": 4,
   "metadata": {},
   "outputs": [
    {
     "name": "stdout",
     "output_type": "stream",
     "text": [
      "1 2\n",
      "3 4\n",
      "5 6\n"
     ]
    }
   ],
   "source": [
    "matrix = [[1, 2], [3, 4], [5, 6]]\n",
    "for val1, val2 in matrix:\n",
    "    print(val1, val2)"
   ]
  },
  {
   "cell_type": "markdown",
   "metadata": {},
   "source": [
    "**Enumerate()**\n",
    "\n",
    "When writing Python, the clean way to iterate over index and value at the same time is to use enumerate() like this:"
   ]
  },
  {
   "cell_type": "code",
   "execution_count": 5,
   "metadata": {},
   "outputs": [
    {
     "name": "stdout",
     "output_type": "stream",
     "text": [
      "0 A\n",
      "1 B\n",
      "2 C\n"
     ]
    }
   ],
   "source": [
    "for i, val in enumerate([\"A\", \"B\", \"C\"]):  # <--- this has python unpacking\n",
    "    print(i, val)"
   ]
  },
  {
   "cell_type": "markdown",
   "metadata": {},
   "source": [
    "enumerate() accepts an optional argument where you can specify starting index of i:"
   ]
  },
  {
   "cell_type": "code",
   "execution_count": 6,
   "metadata": {},
   "outputs": [
    {
     "name": "stdout",
     "output_type": "stream",
     "text": [
      "2 Monday\n",
      "3 Tuesday\n",
      "4 Wednesday\n"
     ]
    }
   ],
   "source": [
    "for i, val in enumerate([\"Monday\", \"Tuesday\", \"Wednesday\"], 2):\n",
    "    print(i, val)"
   ]
  },
  {
   "cell_type": "markdown",
   "metadata": {},
   "source": [
    "**Quick Initilization**\n",
    "\n",
    "In Python, you can quickly create a string or a list like this:"
   ]
  },
  {
   "cell_type": "code",
   "execution_count": 7,
   "metadata": {},
   "outputs": [
    {
     "name": "stdout",
     "output_type": "stream",
     "text": [
      "aaaaa\n",
      "[0, 0, 0, 0, 0]\n"
     ]
    }
   ],
   "source": [
    "my_str = \"a\" * 5\n",
    "my_list = [0] * 5\n",
    "print(my_str)\n",
    "print(my_list)"
   ]
  },
  {
   "cell_type": "markdown",
   "metadata": {},
   "source": [
    "However, NEVER do as follows:"
   ]
  },
  {
   "cell_type": "code",
   "execution_count": 9,
   "metadata": {},
   "outputs": [
    {
     "name": "stdout",
     "output_type": "stream",
     "text": [
      "[[0, 0, 0, 0, 0], [0, 0, 0, 0, 0]]\n",
      "[[5, 0, 0, 0, 0], [5, 0, 0, 0, 0]]\n"
     ]
    }
   ],
   "source": [
    "my_list = [[0] * 5] * 2   # <--- DO NOT DO THIS. This is shallow copy\n",
    "print(my_list)\n",
    "\n",
    "my_list[0][0] = 5    # <--- All inner arrays will change\n",
    "print(my_list)"
   ]
  },
  {
   "cell_type": "markdown",
   "metadata": {},
   "source": [
    "To initialize a matrix, the best way is"
   ]
  },
  {
   "cell_type": "code",
   "execution_count": 10,
   "metadata": {},
   "outputs": [
    {
     "name": "stdout",
     "output_type": "stream",
     "text": [
      "[[0, 0, 0, 0, 0], [0, 0, 0, 0, 0], [0, 0, 0, 0, 0], [0, 0, 0, 0, 0], [0, 0, 0, 0, 0]]\n"
     ]
    }
   ],
   "source": [
    "SIZE = 5\n",
    "matrix = [[0] * SIZE for _ in range(SIZE)]\n",
    "print(matrix)"
   ]
  },
  {
   "cell_type": "markdown",
   "metadata": {},
   "source": [
    "**List Comprehension**\n",
    "\n",
    "Cleaner and faster way to do for loop:"
   ]
  },
  {
   "cell_type": "code",
   "execution_count": 11,
   "metadata": {},
   "outputs": [
    {
     "name": "stdout",
     "output_type": "stream",
     "text": [
      "[1, 2, 3, 4]\n"
     ]
    }
   ],
   "source": [
    "nums = [i for i in range(1, 5)]\n",
    "print(nums)"
   ]
  },
  {
   "cell_type": "markdown",
   "metadata": {},
   "source": [
    "2 for loops."
   ]
  },
  {
   "cell_type": "code",
   "execution_count": 13,
   "metadata": {},
   "outputs": [
    {
     "name": "stdout",
     "output_type": "stream",
     "text": [
      "[10, 11, 20, 22, 30, 33, 40, 44]\n",
      "[10, 11, 20, 22, 30, 33, 40, 44]\n"
     ]
    }
   ],
   "source": [
    "nums = [i * j for i in range(1, 5) for j in range(10, 12)]\n",
    "print(nums)\n",
    "\n",
    "# Equivalent to:\n",
    "nums = []\n",
    "for i in range(1, 5):\n",
    "    for j in range(10, 12):\n",
    "        nums.append(i * j)\n",
    "print(nums)"
   ]
  },
  {
   "cell_type": "markdown",
   "metadata": {},
   "source": [
    "In the example above, notice that for i is the outer loop and for j is the inner loop\n",
    "\n",
    "2 Nested for loops:"
   ]
  },
  {
   "cell_type": "code",
   "execution_count": 14,
   "metadata": {},
   "outputs": [
    {
     "name": "stdout",
     "output_type": "stream",
     "text": [
      "[[10, 11], [20, 22], [30, 33], [40, 44]]\n",
      "[[10, 11], [20, 22], [30, 33], [40, 44]]\n"
     ]
    }
   ],
   "source": [
    "matrix = [[i * j for j in range(10, 12)] for i in range(1, 5)]\n",
    "print(matrix)\n",
    "\n",
    "# Equivalent to:\n",
    "matrix = []\n",
    "for i in range(1, 5):\n",
    "    row = []\n",
    "    for j in range(10, 12):\n",
    "        row.append(i * j)\n",
    "    matrix.append(row)\n",
    "print(matrix)"
   ]
  },
  {
   "cell_type": "markdown",
   "metadata": {},
   "source": [
    "In the example above, pay attention to the order of for i and for j. Although for i is the outer loop, it appears after for j in the list comprehension"
   ]
  },
  {
   "cell_type": "markdown",
   "metadata": {},
   "source": [
    "**Dictionary and Set Comprehension**\n",
    "\n",
    "Dictionary also has comprehension:"
   ]
  },
  {
   "cell_type": "code",
   "execution_count": 16,
   "metadata": {},
   "outputs": [
    {
     "name": "stdout",
     "output_type": "stream",
     "text": [
      "{10: 0, 20: 1, 30: 2}\n"
     ]
    }
   ],
   "source": [
    "my_dict = {val : i for i, val in enumerate([10, 20, 30])}\n",
    "print(my_dict)"
   ]
  },
  {
   "cell_type": "markdown",
   "metadata": {},
   "source": [
    "Set also has comprehension:"
   ]
  },
  {
   "cell_type": "code",
   "execution_count": 17,
   "metadata": {},
   "outputs": [
    {
     "name": "stdout",
     "output_type": "stream",
     "text": [
      "{1, 2, 3, 4}\n"
     ]
    }
   ],
   "source": [
    "nums = [1,1,1,2,2,3,3,4]\n",
    "my_set = {num for num in nums}\n",
    "print(my_set)"
   ]
  },
  {
   "cell_type": "markdown",
   "metadata": {},
   "source": [
    "You might ask why bother with Set Comprehension in this case when we could do this: set(nums). The answer is because of Conditional Comprehensions"
   ]
  },
  {
   "cell_type": "markdown",
   "metadata": {},
   "source": [
    "**lambda Function**\n",
    "\n",
    "lambda function or anonymous function is a different way to write function. The following 2 ways are equivalent:"
   ]
  },
  {
   "cell_type": "code",
   "execution_count": 18,
   "metadata": {},
   "outputs": [
    {
     "name": "stdout",
     "output_type": "stream",
     "text": [
      "2\n",
      "2\n"
     ]
    }
   ],
   "source": [
    "# Normal function\n",
    "def my_func1(x):\n",
    "  return x * 2\n",
    "\n",
    "# Lambda function\n",
    "my_func2 = lambda x: x * 2\n",
    "\n",
    "print(my_func1(1))\n",
    "print(my_func2(1))"
   ]
  },
  {
   "cell_type": "markdown",
   "metadata": {},
   "source": [
    "lambda function are used a lot in Key Functions like min(), max(), sort() and Functional Programming like map(), filter(), reduce()"
   ]
  },
  {
   "cell_type": "markdown",
   "metadata": {},
   "source": [
    "**Key Functions**\n",
    "\n",
    "Key functions are functions that take parameter key as input. key receives a function that can be a lambda. Some key functions that appear often are min(), max(), sort(), sorted(). Here are some examples:\n",
    "\n",
    "Find longest string in array:"
   ]
  },
  {
   "cell_type": "code",
   "execution_count": 20,
   "metadata": {},
   "outputs": [
    {
     "name": "stdout",
     "output_type": "stream",
     "text": [
      "abc\n"
     ]
    }
   ],
   "source": [
    "array = [\"a\", \"ab\", \"abc\"]\n",
    "print(max(array, key=len))  # Note that len() itself is a function"
   ]
  },
  {
   "cell_type": "markdown",
   "metadata": {},
   "source": [
    "Sort array by squared value, e.g. (-2)**2 = 4"
   ]
  },
  {
   "cell_type": "code",
   "execution_count": 21,
   "metadata": {},
   "outputs": [
    {
     "name": "stdout",
     "output_type": "stream",
     "text": [
      "[0, 1, -2]\n"
     ]
    }
   ],
   "source": [
    "array = [-2, 0, 1]\n",
    "print(sorted(array, key=lambda x:x**2))  # Note that we use lambda function here"
   ]
  },
  {
   "cell_type": "markdown",
   "metadata": {},
   "source": [
    "**zip()**\n",
    "\n",
    "zip() is a clean and quick way to iterate through multiple arrays at the same time."
   ]
  },
  {
   "cell_type": "code",
   "execution_count": 22,
   "metadata": {},
   "outputs": [
    {
     "name": "stdout",
     "output_type": "stream",
     "text": [
      "a 1\n",
      "b 2\n",
      "c 3\n"
     ]
    }
   ],
   "source": [
    "chars = \"abc\"\n",
    "nums = [1, 2, 3]\n",
    "\n",
    "for char, num in zip(chars, nums):\n",
    "  print(char, num)"
   ]
  },
  {
   "cell_type": "markdown",
   "metadata": {},
   "source": [
    "As you can see, char and num takes value from zip(chars, nums) which iterate through both chars and nums at once. This is particularly useful when you have to deal with multiple iterable objects. However, be mindful of arrays with different length:"
   ]
  },
  {
   "cell_type": "code",
   "execution_count": 23,
   "metadata": {},
   "outputs": [
    {
     "name": "stdout",
     "output_type": "stream",
     "text": [
      "1 4 7\n",
      "2 5 8\n",
      "3 6 9\n"
     ]
    }
   ],
   "source": [
    "nums1 = [1, 2, 3]\n",
    "nums2 = [4, 5, 6]\n",
    "nums3 = [7, 8, 9, 10]\n",
    "\n",
    "for n1, n2, n3 in zip(nums1, nums2, nums3):\n",
    "  print(n1, n2, n3)"
   ]
  },
  {
   "cell_type": "markdown",
   "metadata": {},
   "source": [
    "There are two important things to note from the above examples:\n",
    "\n",
    "- zip() takes as many array as you want\n",
    "- zip() only iterates up to the shortest array"
   ]
  },
  {
   "cell_type": "markdown",
   "metadata": {},
   "source": [
    "**Extended Tips and Tricks**"
   ]
  },
  {
   "cell_type": "markdown",
   "metadata": {},
   "source": [
    "**Python Unpacking with \\***\n",
    "\n",
    "While unpacking, you can use * to greedy match as much as it can and return a list"
   ]
  },
  {
   "cell_type": "code",
   "execution_count": 24,
   "metadata": {},
   "outputs": [
    {
     "name": "stdout",
     "output_type": "stream",
     "text": [
      "1 2 [3, 4, 5, 6]\n",
      "1 [2, 3, 4, 5] 6\n"
     ]
    }
   ],
   "source": [
    "first, second, *rest = [1, 2, 3, 4, 5, 6]\n",
    "print(first, second, rest)\n",
    "\n",
    "first, *mid, last = [1, 2, 3, 4, 5, 6]\n",
    "print(first, mid, last)"
   ]
  },
  {
   "cell_type": "markdown",
   "metadata": {},
   "source": [
    "Because \\* is greedy (matches as much as it can), you cannot use two * in one unpack"
   ]
  },
  {
   "cell_type": "code",
   "execution_count": 25,
   "metadata": {},
   "outputs": [
    {
     "ename": "SyntaxError",
     "evalue": "two starred expressions in assignment (3599600044.py, line 1)",
     "output_type": "error",
     "traceback": [
      "\u001b[1;36m  Cell \u001b[1;32mIn[25], line 1\u001b[1;36m\u001b[0m\n\u001b[1;33m    first, *mid, *rest = [1, 2, 30, 40, 50, 60]\u001b[0m\n\u001b[1;37m    ^\u001b[0m\n\u001b[1;31mSyntaxError\u001b[0m\u001b[1;31m:\u001b[0m two starred expressions in assignment\n"
     ]
    }
   ],
   "source": [
    "first, *mid, *rest = [1, 2, 30, 40, 50, 60]\n",
    "print(first, mid, rest)"
   ]
  },
  {
   "cell_type": "markdown",
   "metadata": {},
   "source": [
    "**Iterate through matrix by column**\n",
    "\n",
    "**Conditional Comprehensions**\n",
    "\n",
    "Conditional Comprehensions allow us to add if else statement into list/set/dict comprehensions.\n",
    "\n",
    "if statement in List Comprehension:"
   ]
  },
  {
   "cell_type": "code",
   "execution_count": 26,
   "metadata": {},
   "outputs": [
    {
     "name": "stdout",
     "output_type": "stream",
     "text": [
      "[1, 3, 5, 7, 9]\n"
     ]
    }
   ],
   "source": [
    "nums = [i for i in range(10) if i % 2]           # <--- \"if\" is placed at the end \n",
    "print(nums)"
   ]
  },
  {
   "cell_type": "markdown",
   "metadata": {},
   "source": [
    "if else statement in List Comprehension. Notice that if else is placed in the front."
   ]
  },
  {
   "cell_type": "code",
   "execution_count": 27,
   "metadata": {},
   "outputs": [
    {
     "name": "stdout",
     "output_type": "stream",
     "text": [
      "[0, 1, 0, 3, 0, 5, 0, 7, 0, 9]\n"
     ]
    }
   ],
   "source": [
    "nums = [i if i % 2 else 0 for i in range(10)]    # <--- \"if\", \"else\" are placed in the front\n",
    "print(nums)"
   ]
  },
  {
   "cell_type": "markdown",
   "metadata": {},
   "source": [
    "**Multiple Statements on 1 line**\n",
    "\n",
    "Although in Python, we don't use ; often, it can help with writing multiple lines of code on the same line like this:"
   ]
  },
  {
   "cell_type": "code",
   "execution_count": 28,
   "metadata": {},
   "outputs": [
    {
     "name": "stdout",
     "output_type": "stream",
     "text": [
      "0\n",
      "--\n",
      "1\n",
      "--\n",
      "2\n",
      "--\n"
     ]
    }
   ],
   "source": [
    "for i in range(3): print(i); print(\"--\")"
   ]
  },
  {
   "cell_type": "markdown",
   "metadata": {},
   "source": [
    "However, as you can imagine, this can be hard to read if you overuse it. So please use it with care. I tend to only use it for variable initilization."
   ]
  }
 ],
 "metadata": {
  "kernelspec": {
   "display_name": "Python 3",
   "language": "python",
   "name": "python3"
  },
  "language_info": {
   "codemirror_mode": {
    "name": "ipython",
    "version": 3
   },
   "file_extension": ".py",
   "mimetype": "text/x-python",
   "name": "python",
   "nbconvert_exporter": "python",
   "pygments_lexer": "ipython3",
   "version": "3.8.10"
  }
 },
 "nbformat": 4,
 "nbformat_minor": 2
}
