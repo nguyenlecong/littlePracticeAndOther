{
 "cells": [
  {
   "cell_type": "markdown",
   "metadata": {},
   "source": [
    "**Initilization**"
   ]
  },
  {
   "cell_type": "code",
   "execution_count": null,
   "metadata": {},
   "outputs": [],
   "source": [
    "L = []\n",
    "L = list()\n",
    "L = [1,2,3]\n",
    "L = list(range(1, 4))\n",
    "L = [val for val in range(1, 4)]"
   ]
  },
  {
   "cell_type": "markdown",
   "metadata": {},
   "source": [
    "**Indexing and Slicing**"
   ]
  },
  {
   "cell_type": "code",
   "execution_count": 4,
   "metadata": {},
   "outputs": [],
   "source": [
    "L = [1, 2, 3, 4, 5]"
   ]
  },
  {
   "cell_type": "code",
   "execution_count": 5,
   "metadata": {},
   "outputs": [
    {
     "data": {
      "text/plain": [
       "1"
      ]
     },
     "execution_count": 5,
     "metadata": {},
     "output_type": "execute_result"
    }
   ],
   "source": [
    "L[0]"
   ]
  },
  {
   "cell_type": "code",
   "execution_count": 6,
   "metadata": {},
   "outputs": [
    {
     "data": {
      "text/plain": [
       "4"
      ]
     },
     "execution_count": 6,
     "metadata": {},
     "output_type": "execute_result"
    }
   ],
   "source": [
    "L[-2]"
   ]
  },
  {
   "cell_type": "code",
   "execution_count": 7,
   "metadata": {},
   "outputs": [
    {
     "data": {
      "text/plain": [
       "[2, 3]"
      ]
     },
     "execution_count": 7,
     "metadata": {},
     "output_type": "execute_result"
    }
   ],
   "source": [
    "L[1:3]"
   ]
  },
  {
   "cell_type": "code",
   "execution_count": 8,
   "metadata": {},
   "outputs": [
    {
     "data": {
      "text/plain": [
       "[1, 2, 3]"
      ]
     },
     "execution_count": 8,
     "metadata": {},
     "output_type": "execute_result"
    }
   ],
   "source": [
    "L[:3]"
   ]
  },
  {
   "cell_type": "code",
   "execution_count": 9,
   "metadata": {},
   "outputs": [
    {
     "data": {
      "text/plain": [
       "[4, 5]"
      ]
     },
     "execution_count": 9,
     "metadata": {},
     "output_type": "execute_result"
    }
   ],
   "source": [
    "L[3:]"
   ]
  },
  {
   "cell_type": "code",
   "execution_count": 10,
   "metadata": {},
   "outputs": [
    {
     "data": {
      "text/plain": [
       "[1, 3, 5]"
      ]
     },
     "execution_count": 10,
     "metadata": {},
     "output_type": "execute_result"
    }
   ],
   "source": [
    "# Start, end, stride\n",
    "L[::2]"
   ]
  },
  {
   "cell_type": "code",
   "execution_count": 11,
   "metadata": {},
   "outputs": [
    {
     "data": {
      "text/plain": [
       "[5, 4, 3, 2, 1]"
      ]
     },
     "execution_count": 11,
     "metadata": {},
     "output_type": "execute_result"
    }
   ],
   "source": [
    "# Reverse and stride\n",
    "L[::-1]"
   ]
  },
  {
   "cell_type": "code",
   "execution_count": 12,
   "metadata": {},
   "outputs": [
    {
     "data": {
      "text/plain": [
       "[5, 3, 1]"
      ]
     },
     "execution_count": 12,
     "metadata": {},
     "output_type": "execute_result"
    }
   ],
   "source": [
    "L[::-2]"
   ]
  },
  {
   "cell_type": "code",
   "execution_count": 14,
   "metadata": {},
   "outputs": [
    {
     "data": {
      "text/plain": [
       "[1, 2, 1, 2, 1, 2, 1, 2, 1, 2]"
      ]
     },
     "execution_count": 14,
     "metadata": {},
     "output_type": "execute_result"
    }
   ],
   "source": [
    "L = [1, 2]*5\n",
    "L"
   ]
  },
  {
   "cell_type": "code",
   "execution_count": 15,
   "metadata": {},
   "outputs": [
    {
     "data": {
      "text/plain": [
       "[1, 2, 3, 4, 5]"
      ]
     },
     "execution_count": 15,
     "metadata": {},
     "output_type": "execute_result"
    }
   ],
   "source": [
    "L = [1, 2, 3]\n",
    "L += [4,5]\n",
    "L"
   ]
  },
  {
   "cell_type": "markdown",
   "metadata": {},
   "source": [
    "**List Methods (Frequently use)**"
   ]
  },
  {
   "cell_type": "markdown",
   "metadata": {},
   "source": [
    "**append()**\n",
    "\n",
    "L.append(x) adds x to the end of L. Same as L[len(L):] = [x].\n",
    "\n",
    "Time Complexity: O(1)"
   ]
  },
  {
   "cell_type": "code",
   "execution_count": 16,
   "metadata": {},
   "outputs": [
    {
     "data": {
      "text/plain": [
       "[1, 2, 3, 4]"
      ]
     },
     "execution_count": 16,
     "metadata": {},
     "output_type": "execute_result"
    }
   ],
   "source": [
    "L = [1, 2, 3]\n",
    "L.append(4)\n",
    "L"
   ]
  },
  {
   "cell_type": "markdown",
   "metadata": {},
   "source": [
    "**extend()**\n",
    "\n",
    "L.extend(iterable) adds multiple values to the end of L. Same as L[len(L):] = iterable.\n",
    "\n",
    "Time Complexity: O(K), K is the size of the iterable"
   ]
  },
  {
   "cell_type": "code",
   "execution_count": 18,
   "metadata": {},
   "outputs": [
    {
     "data": {
      "text/plain": [
       "[1, 2, 3, 4, 5]"
      ]
     },
     "execution_count": 18,
     "metadata": {},
     "output_type": "execute_result"
    }
   ],
   "source": [
    "L = [1, 2, 3]\n",
    "L.extend([4, 5])\n",
    "# L.append(4)\n",
    "# L.append(5)\n",
    "L"
   ]
  },
  {
   "cell_type": "markdown",
   "metadata": {},
   "source": [
    "**pop()**\n",
    "\n",
    "L.pop() removes the last item (at the end) of L.\n",
    "\n",
    "Time Complexity: O(1)"
   ]
  },
  {
   "cell_type": "code",
   "execution_count": 19,
   "metadata": {},
   "outputs": [
    {
     "data": {
      "text/plain": [
       "[1, 2]"
      ]
     },
     "execution_count": 19,
     "metadata": {},
     "output_type": "execute_result"
    }
   ],
   "source": [
    "L = [1, 2, 3]\n",
    "L.pop()\n",
    "L"
   ]
  },
  {
   "cell_type": "markdown",
   "metadata": {},
   "source": [
    "L.pop([i]) also takes an optional index of the item we wish to remove.\n",
    "\n",
    "Disclaimer: Refrain from using pop(i) because it's slow.\n",
    "\n",
    "On the other hand, L.pop() is very fast Time Complexity: O(N), N is the size of L"
   ]
  },
  {
   "cell_type": "code",
   "execution_count": 20,
   "metadata": {},
   "outputs": [
    {
     "data": {
      "text/plain": [
       "[2, 3]"
      ]
     },
     "execution_count": 20,
     "metadata": {},
     "output_type": "execute_result"
    }
   ],
   "source": [
    "L = [1, 2, 3]\n",
    "L.pop(0)\n",
    "L"
   ]
  },
  {
   "cell_type": "markdown",
   "metadata": {},
   "source": [
    "**sort()**\n",
    "\n",
    "L.sort() will sort L in place. In place means L is sorted after running L.sort() but it returns None.\n",
    "\n",
    "Time Complexity: O(NlogN), N is the size of L"
   ]
  },
  {
   "cell_type": "code",
   "execution_count": 21,
   "metadata": {},
   "outputs": [
    {
     "data": {
      "text/plain": [
       "[-2, -1, 0, 1, 2]"
      ]
     },
     "execution_count": 21,
     "metadata": {},
     "output_type": "execute_result"
    }
   ],
   "source": [
    "L = [0, 1, 2, -1, -2]\n",
    "L.sort()\n",
    "L"
   ]
  },
  {
   "cell_type": "markdown",
   "metadata": {},
   "source": [
    "L.sort() takes an argument reverse (default is False) if you want to sort it in reversed order."
   ]
  },
  {
   "cell_type": "code",
   "execution_count": 22,
   "metadata": {},
   "outputs": [
    {
     "data": {
      "text/plain": [
       "[2, 1, 0, -1, -2]"
      ]
     },
     "execution_count": 22,
     "metadata": {},
     "output_type": "execute_result"
    }
   ],
   "source": [
    "L = [-2, -1, 0, 1, 2]\n",
    "L.sort(reverse=True)\n",
    "L"
   ]
  },
  {
   "cell_type": "markdown",
   "metadata": {},
   "source": [
    "L.sort() also takes argument key (default is None) where you can specific the sorting criteria e.g. base on length or absolute value"
   ]
  },
  {
   "cell_type": "code",
   "execution_count": 23,
   "metadata": {},
   "outputs": [
    {
     "data": {
      "text/plain": [
       "[0, -1, 1, -2, 2]"
      ]
     },
     "execution_count": 23,
     "metadata": {},
     "output_type": "execute_result"
    }
   ],
   "source": [
    "L = [-2, -1, 0, 1, 2]\n",
    "L.sort(key=abs)\n",
    "L"
   ]
  },
  {
   "cell_type": "markdown",
   "metadata": {},
   "source": [
    "You can use all arguments together as well"
   ]
  },
  {
   "cell_type": "code",
   "execution_count": 24,
   "metadata": {},
   "outputs": [
    {
     "data": {
      "text/plain": [
       "[-2, 2, -1, 1, 0]"
      ]
     },
     "execution_count": 24,
     "metadata": {},
     "output_type": "execute_result"
    }
   ],
   "source": [
    "L = [-2, -1, 0, 1, 2]\n",
    "L.sort(key=abs, reverse=True)\n",
    "L"
   ]
  },
  {
   "cell_type": "markdown",
   "metadata": {},
   "source": [
    "**reverse()**\n",
    "\n",
    "L.reverse() will reverse all elements of the list in place\n",
    "\n",
    "Time Complexity: O(N), N is the size of L"
   ]
  },
  {
   "cell_type": "code",
   "execution_count": 25,
   "metadata": {},
   "outputs": [
    {
     "data": {
      "text/plain": [
       "[3, 2, 1]"
      ]
     },
     "execution_count": 25,
     "metadata": {},
     "output_type": "execute_result"
    }
   ],
   "source": [
    "L = [1, 2, 3]\n",
    "L.reverse()\n",
    "L"
   ]
  },
  {
   "cell_type": "markdown",
   "metadata": {},
   "source": [
    "**index()**\n",
    "\n",
    "L.index(x) returns zero-based index of the first item that is equal to x in list L\n",
    "\n",
    "Time Complexity: O(N), N is the size of L"
   ]
  },
  {
   "cell_type": "code",
   "execution_count": 27,
   "metadata": {},
   "outputs": [
    {
     "data": {
      "text/plain": [
       "1"
      ]
     },
     "execution_count": 27,
     "metadata": {},
     "output_type": "execute_result"
    }
   ],
   "source": [
    "L = [1, 2, 3, 2, 1, 2]\n",
    "L.index(2)  # Search for value 2"
   ]
  },
  {
   "cell_type": "markdown",
   "metadata": {},
   "source": [
    "L.index(x[, start[, end]]) also takes optional arguments start and end to decide the limit while searching"
   ]
  },
  {
   "cell_type": "code",
   "execution_count": 28,
   "metadata": {},
   "outputs": [
    {
     "data": {
      "text/plain": [
       "3"
      ]
     },
     "execution_count": 28,
     "metadata": {},
     "output_type": "execute_result"
    }
   ],
   "source": [
    "L = [1, 2, 3, 2, 1, 2]\n",
    "L.index(2, 2, 4)  # Search for value 2 between index 2 and 3"
   ]
  },
  {
   "cell_type": "markdown",
   "metadata": {},
   "source": [
    "**count()**\n",
    "\n",
    "L.count(x) returns the number of times x appears in L\n",
    "\n",
    "Time Complexity: O(N), N is the size of L"
   ]
  },
  {
   "cell_type": "code",
   "execution_count": 29,
   "metadata": {},
   "outputs": [
    {
     "data": {
      "text/plain": [
       "3"
      ]
     },
     "execution_count": 29,
     "metadata": {},
     "output_type": "execute_result"
    }
   ],
   "source": [
    "L = [1, 1, 1, 2, 2, 2, 3]\n",
    "L.count(1)"
   ]
  },
  {
   "cell_type": "markdown",
   "metadata": {},
   "source": [
    "**List Methods (Rarely use)**"
   ]
  },
  {
   "cell_type": "markdown",
   "metadata": {},
   "source": [
    "**copy()**\n",
    "\n",
    "Shallow copy. Refrain from using this because it might create unexpected behavior. Same as L[:]\n",
    "\n",
    "Time Complexity: O(N), N is the size of L"
   ]
  },
  {
   "cell_type": "code",
   "execution_count": 31,
   "metadata": {},
   "outputs": [
    {
     "data": {
      "text/plain": [
       "[1, 2, 3]"
      ]
     },
     "execution_count": 31,
     "metadata": {},
     "output_type": "execute_result"
    }
   ],
   "source": [
    "L = [1, 2, 3]\n",
    "shallow_L = L.copy()  # Same as shallow_L = L[:]\n",
    "shallow_L"
   ]
  },
  {
   "cell_type": "markdown",
   "metadata": {},
   "source": [
    "**remove()**\n",
    "\n",
    "L.remove(x) removes the first item x from the list L\n",
    "\n",
    "Disclaimer: Refrain from using this because it's slow\n",
    "\n",
    "Time Complexity: O(N), N is the size of L"
   ]
  },
  {
   "cell_type": "code",
   "execution_count": 32,
   "metadata": {},
   "outputs": [
    {
     "data": {
      "text/plain": [
       "[1, 2, 3, 2, 1]"
      ]
     },
     "execution_count": 32,
     "metadata": {},
     "output_type": "execute_result"
    }
   ],
   "source": [
    "L = [1, 1, 2, 3, 2, 1]\n",
    "L.remove(1)\n",
    "L"
   ]
  },
  {
   "cell_type": "markdown",
   "metadata": {},
   "source": [
    "**insert()**\n",
    "\n",
    "L.insert(i, x): Add value x to index i. L.insert(len(L), x) is the same as L.append(x)\n",
    "\n",
    "Disclaimer: Refrain from using this because it's slow.\n",
    "\n",
    "Time Complexity: O(N), N is the size of L"
   ]
  },
  {
   "cell_type": "code",
   "execution_count": 33,
   "metadata": {},
   "outputs": [
    {
     "data": {
      "text/plain": [
       "[-1, 1, 2, 3]"
      ]
     },
     "execution_count": 33,
     "metadata": {},
     "output_type": "execute_result"
    }
   ],
   "source": [
    "L = [1, 2, 3]\n",
    "L.insert(0, -1)\n",
    "L"
   ]
  },
  {
   "cell_type": "markdown",
   "metadata": {},
   "source": [
    "**clear()**\n",
    "\n",
    "L.clear() removes all items from list L. Same as del L[:]\n",
    "\n",
    "Time Complexity: O(N), N is the size of L"
   ]
  },
  {
   "cell_type": "code",
   "execution_count": 34,
   "metadata": {},
   "outputs": [
    {
     "data": {
      "text/plain": [
       "[]"
      ]
     },
     "execution_count": 34,
     "metadata": {},
     "output_type": "execute_result"
    }
   ],
   "source": [
    "L = [1, 2 ,3]\n",
    "L.clear()  # same as del L[:]\n",
    "L"
   ]
  },
  {
   "cell_type": "markdown",
   "metadata": {},
   "source": [
    "**Example**"
   ]
  },
  {
   "cell_type": "markdown",
   "metadata": {},
   "source": [
    "Leetcode 832. Flipping an Image\n",
    "\n",
    "This question has 2 parts: flip an image and then invert it (0 to 1 and 1 to 0). Here are different ways to flip an image horizontally"
   ]
  },
  {
   "cell_type": "code",
   "execution_count": 35,
   "metadata": {},
   "outputs": [
    {
     "data": {
      "text/plain": [
       "[[3, 2, 1], [6, 5, 4]]"
      ]
     },
     "execution_count": 35,
     "metadata": {},
     "output_type": "execute_result"
    }
   ],
   "source": [
    "def flip_image(image):\n",
    "    \"\"\"\n",
    "    Most Basic way, reverse using indexing\n",
    "    \"\"\"\n",
    "    new_image = []\n",
    "    for row in image:\n",
    "        new_row = []\n",
    "        for i in range(len(row)):\n",
    "            new_row.append(row[-i - 1])\n",
    "        new_image.append(new_row)\n",
    "    return new_image\n",
    "    \n",
    "flip_image([[1, 2, 3], [4, 5, 6]])"
   ]
  },
  {
   "cell_type": "code",
   "execution_count": 36,
   "metadata": {},
   "outputs": [
    {
     "data": {
      "text/plain": [
       "[[3, 2, 1], [6, 5, 4]]"
      ]
     },
     "execution_count": 36,
     "metadata": {},
     "output_type": "execute_result"
    }
   ],
   "source": [
    "def flip_image(image):\n",
    "    \"\"\"\n",
    "    Reverse using slicing and list comprehension\n",
    "    \"\"\"\n",
    "    new_image = [row[::-1] for row in image]\n",
    "    return new_image\n",
    "    \n",
    "flip_image([[1, 2, 3], [4, 5, 6]])"
   ]
  },
  {
   "cell_type": "code",
   "execution_count": 37,
   "metadata": {},
   "outputs": [
    {
     "data": {
      "text/plain": [
       "[[3, 2, 1], [6, 5, 4]]"
      ]
     },
     "execution_count": 37,
     "metadata": {},
     "output_type": "execute_result"
    }
   ],
   "source": [
    "def flip_image(image):\n",
    "    \"\"\"\n",
    "    Reverse using indexing assignment. In place\n",
    "    \"\"\"\n",
    "    for row in image:\n",
    "        for i in range(len(row) // 2):\n",
    "            row[i], row[~i] = row[~i], row[i]  # ~i = -i - 1 (Tilde)\n",
    "    return image\n",
    "    \n",
    "flip_image([[1, 2, 3], [4, 5, 6]])"
   ]
  },
  {
   "cell_type": "code",
   "execution_count": 38,
   "metadata": {},
   "outputs": [
    {
     "data": {
      "text/plain": [
       "[[3, 2, 1], [6, 5, 4]]"
      ]
     },
     "execution_count": 38,
     "metadata": {},
     "output_type": "execute_result"
    }
   ],
   "source": [
    "def flip_image(image):\n",
    "    \"\"\"\n",
    "    Reverse using reverse(). In place\n",
    "    \"\"\"\n",
    "    for row in image:\n",
    "        row.reverse()\n",
    "    return image\n",
    "    \n",
    "flip_image([[1, 2, 3], [4, 5, 6]])"
   ]
  },
  {
   "cell_type": "markdown",
   "metadata": {},
   "source": [
    "Here are different ways to invert an image"
   ]
  },
  {
   "cell_type": "code",
   "execution_count": 39,
   "metadata": {},
   "outputs": [
    {
     "data": {
      "text/plain": [
       "[[0, 1, 0], [0, 0, 0]]"
      ]
     },
     "execution_count": 39,
     "metadata": {},
     "output_type": "execute_result"
    }
   ],
   "source": [
    "def invert_image(image):\n",
    "    \"\"\"\n",
    "    Invert using indexing\n",
    "    \"\"\"\n",
    "    new_image = []\n",
    "    for row in image:\n",
    "        new_row = []\n",
    "        for val in row:\n",
    "            if val == 1:\n",
    "                new_row.append(0)\n",
    "            else:\n",
    "                new_row.append(1)\n",
    "        new_image.append(new_row)\n",
    "    return new_image\n",
    "    \n",
    "invert_image([[1, 0, 1], [1, 1, 1]])"
   ]
  },
  {
   "cell_type": "code",
   "execution_count": 40,
   "metadata": {},
   "outputs": [
    {
     "data": {
      "text/plain": [
       "[[0, 1, 0], [0, 0, 0]]"
      ]
     },
     "execution_count": 40,
     "metadata": {},
     "output_type": "execute_result"
    }
   ],
   "source": [
    "def invert_image(image):\n",
    "    \"\"\"\n",
    "    Invert using nested list comprehension and math\n",
    "    \"\"\"\n",
    "    new_image = [[1 - val for val in row] for row in image]\n",
    "    return new_image\n",
    "    \n",
    "invert_image([[1, 0, 1], [1, 1, 1]])"
   ]
  },
  {
   "cell_type": "markdown",
   "metadata": {},
   "source": [
    "**Shallow Copy vs Deep Copy**\n",
    "\n",
    "Reference: https://docs.python.org/3/library/copy.html\n",
    "\n",
    "The difference between these two kinds of copies only matters to compound object (object that contains other objects, like nested list)"
   ]
  },
  {
   "cell_type": "markdown",
   "metadata": {},
   "source": [
    "**Deep Copy**\n",
    "\n",
    "Make a complete copy of an object. Changes of one copy does not affect the other"
   ]
  },
  {
   "cell_type": "code",
   "execution_count": 41,
   "metadata": {},
   "outputs": [
    {
     "name": "stdout",
     "output_type": "stream",
     "text": [
      "Before Change\n",
      "Original: [[1, 2, 3], 4]\n",
      "Copy: [[1, 2, 3], 4]\n",
      "After Change to original\n",
      "Original: [[5, 2, 3], [6, 7, 8]]\n",
      "Copy: [[1, 2, 3], 4]\n"
     ]
    }
   ],
   "source": [
    "import copy\n",
    "\n",
    "original = [[1, 2, 3], 4]\n",
    "deep_copy = copy.deepcopy(original)\n",
    "\n",
    "print(\"Before Change\")\n",
    "print(f\"Original: {original}\")\n",
    "print(f\"Copy: {deep_copy}\")\n",
    "\n",
    "original[0][0] = 5          # <- this does not change shallow_copy\n",
    "original[1] = [6, 7, 8]     # <- this does not change shallow_copy\n",
    "\n",
    "print(\"After Change to original\")\n",
    "print(f\"Original: {original}\")\n",
    "print(f\"Copy: {deep_copy}\")"
   ]
  },
  {
   "cell_type": "markdown",
   "metadata": {},
   "source": [
    "**Shallow Copy**\n",
    "\n",
    "Make a new compound object but insert the same references of the child objects into this new compound object"
   ]
  },
  {
   "cell_type": "code",
   "execution_count": 42,
   "metadata": {},
   "outputs": [
    {
     "name": "stdout",
     "output_type": "stream",
     "text": [
      "Before Change\n",
      "Original: [[1, 2, 3], 4]\n",
      "Copy: [[1, 2, 3], 4]\n",
      "After Change to original\n",
      "Original: [[5, 2, 3], [6, 7, 8]]\n",
      "Copy: [[5, 2, 3], 4]\n"
     ]
    }
   ],
   "source": [
    "import copy\n",
    "\n",
    "original = [[1, 2, 3], 4]\n",
    "shallow_copy = copy.copy(original)\n",
    "\n",
    "print(\"Before Change\")\n",
    "print(f\"Original: {original}\")\n",
    "print(f\"Copy: {shallow_copy}\")\n",
    "\n",
    "original[0][0] = 5       # <- this changes shallow_copy\n",
    "original[1] = [6, 7, 8]  # <- this does not change shallow_copy\n",
    "\n",
    "print(\"After Change to original\")\n",
    "print(f\"Original: {original}\")\n",
    "print(f\"Copy: {shallow_copy}\")"
   ]
  },
  {
   "cell_type": "markdown",
   "metadata": {},
   "source": [
    "**What is considered as shallow copy?**\n",
    "\n",
    "Pretty anything other than deepcopy()"
   ]
  },
  {
   "cell_type": "markdown",
   "metadata": {},
   "source": [
    "list()"
   ]
  },
  {
   "cell_type": "code",
   "execution_count": 43,
   "metadata": {},
   "outputs": [
    {
     "name": "stdout",
     "output_type": "stream",
     "text": [
      "Before Change\n",
      "Original: [[1, 2]]\n",
      "Copy: [[1, 2]]\n",
      "After Change to original\n",
      "Original: [[3, 2]]\n",
      "Copy: [[3, 2]]\n"
     ]
    }
   ],
   "source": [
    "original = [[1, 2]]\n",
    "copy = list(original)\n",
    "\n",
    "print(\"Before Change\")\n",
    "print(f\"Original: {original}\")\n",
    "print(f\"Copy: {copy}\")\n",
    "\n",
    "original[0][0] = 3\n",
    "\n",
    "print(\"After Change to original\")\n",
    "print(f\"Original: {original}\")\n",
    "print(f\"Copy: {copy}\")"
   ]
  },
  {
   "cell_type": "markdown",
   "metadata": {},
   "source": [
    "List Comprehension"
   ]
  },
  {
   "cell_type": "code",
   "execution_count": 44,
   "metadata": {},
   "outputs": [
    {
     "name": "stdout",
     "output_type": "stream",
     "text": [
      "Before Change\n",
      "Original: [[1, 2]]\n",
      "Copy: [[1, 2]]\n",
      "After Change to original\n",
      "Original: [[3, 2]]\n",
      "Copy: [[3, 2]]\n"
     ]
    }
   ],
   "source": [
    "original = [[1, 2]]\n",
    "copy = [val for val in original]\n",
    "\n",
    "print(\"Before Change\")\n",
    "print(f\"Original: {original}\")\n",
    "print(f\"Copy: {copy}\")\n",
    "\n",
    "original[0][0] = 3\n",
    "\n",
    "print(\"After Change to original\")\n",
    "print(f\"Original: {original}\")\n",
    "print(f\"Copy: {copy}\")"
   ]
  },
  {
   "cell_type": "markdown",
   "metadata": {},
   "source": [
    "slicing"
   ]
  },
  {
   "cell_type": "code",
   "execution_count": 45,
   "metadata": {},
   "outputs": [
    {
     "name": "stdout",
     "output_type": "stream",
     "text": [
      "Before Change\n",
      "Original: [[1, 2]]\n",
      "Copy: [[1, 2]]\n",
      "After Change to original\n",
      "Original: [[3, 2]]\n",
      "Copy: [[3, 2]]\n"
     ]
    }
   ],
   "source": [
    "original = [[1, 2]]\n",
    "copy = original[:]\n",
    "\n",
    "print(\"Before Change\")\n",
    "print(f\"Original: {original}\")\n",
    "print(f\"Copy: {copy}\")\n",
    "\n",
    "original[0][0] = 3\n",
    "\n",
    "print(\"After Change to original\")\n",
    "print(f\"Original: {original}\")\n",
    "print(f\"Copy: {copy}\")"
   ]
  },
  {
   "cell_type": "markdown",
   "metadata": {},
   "source": [
    "copy()"
   ]
  },
  {
   "cell_type": "code",
   "execution_count": 46,
   "metadata": {},
   "outputs": [
    {
     "name": "stdout",
     "output_type": "stream",
     "text": [
      "Before Change\n",
      "Original: [[1, 2]]\n",
      "Copy: [[1, 2]]\n",
      "After Change to original\n",
      "Original: [[3, 2]]\n",
      "Copy: [[3, 2]]\n"
     ]
    }
   ],
   "source": [
    "original = [[1, 2]]\n",
    "copy = original.copy()\n",
    "\n",
    "print(\"Before Change\")\n",
    "print(f\"Original: {original}\")\n",
    "print(f\"Copy: {copy}\")\n",
    "\n",
    "original[0][0] = 3\n",
    "\n",
    "print(\"After Change to original\")\n",
    "print(f\"Original: {original}\")\n",
    "print(f\"Copy: {copy}\")"
   ]
  },
  {
   "cell_type": "markdown",
   "metadata": {},
   "source": [
    "\\*"
   ]
  },
  {
   "cell_type": "code",
   "execution_count": 47,
   "metadata": {},
   "outputs": [
    {
     "name": "stdout",
     "output_type": "stream",
     "text": [
      "Before Change\n",
      "Matrix: [[1, 2], [1, 2], [1, 2], [1, 2], [1, 2]]\n",
      "After Change to matrix\n",
      "Matrix: [[3, 2], [3, 2], [3, 2], [3, 2], [3, 2]]\n"
     ]
    }
   ],
   "source": [
    "matrix = [[1, 2]] * 5\n",
    "\n",
    "print(\"Before Change\")\n",
    "print(f\"Matrix: {matrix}\")\n",
    "\n",
    "matrix[0][0] = 3 # <-- This changes every row in matrix\n",
    "\n",
    "print(\"After Change to matrix\")\n",
    "print(f\"Matrix: {matrix}\")"
   ]
  },
  {
   "cell_type": "markdown",
   "metadata": {},
   "source": [
    "**How to write your own deep_copy()**"
   ]
  },
  {
   "cell_type": "code",
   "execution_count": 48,
   "metadata": {},
   "outputs": [
    {
     "name": "stdout",
     "output_type": "stream",
     "text": [
      "Before Change\n",
      "Original: [[1, 2]]\n",
      "Copy: [[1, 2]]\n",
      "After Change to original\n",
      "Original: [[3, 2]]\n",
      "Copy: [[1, 2]]\n"
     ]
    }
   ],
   "source": [
    "def deep_copy(arr):\n",
    "    \"\"\"\n",
    "    Basic implementation for deep copy of nested list\n",
    "    \"\"\"\n",
    "    return [deep_copy(val) if isinstance(val, list) else val for val in arr]\n",
    "\n",
    "\n",
    "original = [[1, 2]]\n",
    "copy = deep_copy(original)\n",
    "\n",
    "print(\"Before Change\")\n",
    "print(f\"Original: {original}\")\n",
    "print(f\"Copy: {copy}\")\n",
    "\n",
    "original[0][0] = 3\n",
    "\n",
    "print(\"After Change to original\")\n",
    "print(f\"Original: {original}\")\n",
    "print(f\"Copy: {copy}\")"
   ]
  }
 ],
 "metadata": {
  "kernelspec": {
   "display_name": "Python 3",
   "language": "python",
   "name": "python3"
  },
  "language_info": {
   "codemirror_mode": {
    "name": "ipython",
    "version": 3
   },
   "file_extension": ".py",
   "mimetype": "text/x-python",
   "name": "python",
   "nbconvert_exporter": "python",
   "pygments_lexer": "ipython3",
   "version": "3.8.10"
  }
 },
 "nbformat": 4,
 "nbformat_minor": 2
}
