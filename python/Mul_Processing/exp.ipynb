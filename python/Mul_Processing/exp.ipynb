{
 "cells": [
  {
   "cell_type": "code",
   "execution_count": 1,
   "metadata": {},
   "outputs": [
    {
     "data": {
      "text/plain": [
       "4"
      ]
     },
     "execution_count": 1,
     "metadata": {},
     "output_type": "execute_result"
    }
   ],
   "source": [
    "import psutil\n",
    "psutil.cpu_count()"
   ]
  },
  {
   "cell_type": "code",
   "execution_count": 3,
   "metadata": {},
   "outputs": [
    {
     "name": "stdout",
     "output_type": "stream",
     "text": [
      "sleeping 1 second\n",
      "sleeping 1 second\n",
      "done sleepingdone sleeping\n",
      "\n",
      "finish time: 1.04 s\n"
     ]
    }
   ],
   "source": [
    "import time\n",
    "import multiprocessing\n",
    "\n",
    "def do_something():\n",
    "    print('sleeping 1 second')\n",
    "    time.sleep(1)\n",
    "    print('done sleeping')\n",
    "\n",
    "start = time.time()\n",
    "\n",
    "p1 = multiprocessing.Process(target=do_something)\n",
    "p2 = multiprocessing.Process(target=do_something)\n",
    "\n",
    "p1.start()\n",
    "p2.start()\n",
    "\n",
    "p1.join()\n",
    "p2.join()\n",
    "\n",
    "end = time.time()\n",
    "print(f'finish time: {round(end-start, 2)} s')"
   ]
  },
  {
   "cell_type": "code",
   "execution_count": 6,
   "metadata": {},
   "outputs": [
    {
     "name": "stdout",
     "output_type": "stream",
     "text": [
      "sleeping 2.5 second\n",
      "sleeping 1.5 second\n"
     ]
    },
    {
     "name": "stdout",
     "output_type": "stream",
     "text": [
      "done sleeping\n",
      "done sleeping\n",
      "None\n",
      "None\n",
      "finish time: 2.56 s\n"
     ]
    }
   ],
   "source": [
    "import time\n",
    "import concurrent.futures\n",
    "\n",
    "def do_something(t):\n",
    "    print(f'sleeping {t} second')\n",
    "    time.sleep(t)\n",
    "    print('done sleeping')\n",
    "\n",
    "start = time.time()\n",
    "\n",
    "with concurrent.futures.ProcessPoolExecutor() as ex:\n",
    "    p1 = ex.submit(do_something, 2.5)\n",
    "    p2 = ex.submit(do_something, 1.5)\n",
    "\n",
    "    print(p1.result())\n",
    "    print(p2.result())\n",
    "\n",
    "end = time.time()\n",
    "print(f'finish time: {round(end-start, 2)} s')"
   ]
  },
  {
   "cell_type": "code",
   "execution_count": 9,
   "metadata": {},
   "outputs": [
    {
     "name": "stdout",
     "output_type": "stream",
     "text": [
      "sleeping 1 secondsleeping 3 second\n",
      "\n",
      "sleeping 5 secondsleeping 6 second\n",
      "\n",
      "done sleeping\n",
      "sleeping 2 second\n",
      "None\n",
      "done sleeping\n",
      "done sleeping\n",
      "None\n",
      "done sleeping\n",
      "None\n",
      "done sleeping\n",
      "None\n",
      "None\n",
      "finish time: 6.09 s\n"
     ]
    }
   ],
   "source": [
    "import time\n",
    "import concurrent.futures\n",
    "\n",
    "def do_something(t):\n",
    "    print(f'sleeping {t} second')\n",
    "    time.sleep(t)\n",
    "    print('done sleeping')\n",
    "\n",
    "start = time.time()\n",
    "\n",
    "with concurrent.futures.ProcessPoolExecutor() as ex:\n",
    "    # cpu core num = 4\n",
    "    seconds = [1,3,5,6,2]\n",
    "    results = ex.map(do_something, seconds)\n",
    "    for r in results:\n",
    "        print(r)\n",
    "\n",
    "end = time.time()\n",
    "print(f'finish time: {round(end-start, 2)} s')"
   ]
  }
 ],
 "metadata": {
  "kernelspec": {
   "display_name": "base",
   "language": "python",
   "name": "python3"
  },
  "language_info": {
   "codemirror_mode": {
    "name": "ipython",
    "version": 3
   },
   "file_extension": ".py",
   "mimetype": "text/x-python",
   "name": "python",
   "nbconvert_exporter": "python",
   "pygments_lexer": "ipython3",
   "version": "3.9.13"
  },
  "orig_nbformat": 4
 },
 "nbformat": 4,
 "nbformat_minor": 2
}
